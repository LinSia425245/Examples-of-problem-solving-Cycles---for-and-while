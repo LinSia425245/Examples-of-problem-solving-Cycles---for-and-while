{
  "nbformat": 4,
  "nbformat_minor": 0,
  "metadata": {
    "colab": {
      "provenance": [],
      "authorship_tag": "ABX9TyNxgHQ04aqBmge8DX7TuzGt",
      "include_colab_link": true
    },
    "kernelspec": {
      "name": "python3",
      "display_name": "Python 3"
    },
    "language_info": {
      "name": "python"
    }
  },
  "cells": [
    {
      "cell_type": "markdown",
      "metadata": {
        "id": "view-in-github",
        "colab_type": "text"
      },
      "source": [
        "<a href=\"https://colab.research.google.com/github/LinSia425245/Examples-of-problem-solving-Cycles---for-and-while/blob/main/_for_while.ipynb\" target=\"_parent\"><img src=\"https://colab.research.google.com/assets/colab-badge.svg\" alt=\"Open In Colab\"/></a>"
      ]
    },
    {
      "cell_type": "markdown",
      "source": [
        "## **1. Рассчитать проценты на сумму вклада. Решение с помощью цикла for.** **[Диаграмма](https://drive.google.com/file/d/1c6wgB-qz0BNxyYwJmCBQFZzm-9gLFdwY/view?usp=sharing)**"
      ],
      "metadata": {
        "id": "mztexKJ7DLqV"
      }
    },
    {
      "cell_type": "code",
      "source": [
        "deposit = 1000000\n",
        "interest_rate = 0.1\n",
        "years = 6\n",
        "for i in range(years):\n",
        "    deposit = deposit * (1 + interest_rate)\n",
        "print(deposit)"
      ],
      "metadata": {
        "colab": {
          "base_uri": "https://localhost:8080/"
        },
        "id": "wY4PrFgmDclF",
        "outputId": "1da9c64f-873a-4325-dbeb-72f10acfd373"
      },
      "execution_count": null,
      "outputs": [
        {
          "output_type": "stream",
          "name": "stdout",
          "text": [
            "1771561.0000000007\n"
          ]
        }
      ]
    },
    {
      "cell_type": "markdown",
      "source": [
        "# **2. Рассчитать пронценты на сумму вклада. Решение с помощью цикла while.** [**Диаграмма**](https://drive.google.com/file/d/1ENpxxcohOHuQwWdWKadFk3Gke0ykhJPI/view?usp=sharing)"
      ],
      "metadata": {
        "id": "9RUCTaU8FN5V"
      }
    },
    {
      "cell_type": "code",
      "source": [
        "deposit = 10000\n",
        "interest_rate = 0.05\n",
        "years = 5\n",
        "i = 0\n",
        "while i < years:\n",
        "    deposit = deposit * (1 + interest_rate)\n",
        "    i += 1\n",
        "print(deposit)"
      ],
      "metadata": {
        "id": "YTugY-i5Fh0c"
      },
      "execution_count": null,
      "outputs": []
    },
    {
      "cell_type": "markdown",
      "source": [
        "# **3. Рассчиать сумму выплат по кредиту. Решение с помощью цикла for.**"
      ],
      "metadata": {
        "id": "mut5NG6-FooD"
      }
    },
    {
      "cell_type": "code",
      "source": [
        "loan_amount = 100000\n",
        "interest_rate = 0.1\n",
        "years = 5\n",
        "monthly_payment = loan_amount / (years * 12)\n",
        "total_payments = 0\n",
        "for i in range(years * 12):\n",
        "    total_payments += monthly_payment\n",
        "    loan_amount = loan_amount * (1 + interest_rate / 12) - monthly_payment\n",
        "print(total_payments)"
      ],
      "metadata": {
        "id": "wYaIXd1yFuQM"
      },
      "execution_count": null,
      "outputs": []
    },
    {
      "cell_type": "markdown",
      "source": [
        "# **4. Рассчитать ежемесячный платёжи по кредиту. Решение с помощью цикла for.**"
      ],
      "metadata": {
        "id": "pLhwh4xBF8ld"
      }
    },
    {
      "cell_type": "code",
      "source": [
        "loan_amount = 100000\n",
        "interest_rate = 0.1\n",
        "years = 5\n",
        "monthly_interest_rate = interest_rate / 12\n",
        "months = years * 12\n",
        "payment = (loan_amount * monthly_interest_rate) / (1 - (1 + monthly_interest_rate) ** (-months))\n",
        "for i in range(months):\n",
        "    loan_amount = loan_amount * (1 + monthly_interest_rate) - payment\n",
        "    print(f\"Month {i+1}: Payment = {payment:.2f}, Remaining balance = {loan_amount:.2f}\")"
      ],
      "metadata": {
        "colab": {
          "base_uri": "https://localhost:8080/"
        },
        "id": "Xvb2z0j7GTuu",
        "outputId": "7469633c-e137-4f4b-91ac-69a2f33a24be"
      },
      "execution_count": null,
      "outputs": [
        {
          "output_type": "stream",
          "name": "stdout",
          "text": [
            "Month 1: Payment = 2124.70, Remaining balance = 98708.63\n",
            "Month 2: Payment = 2124.70, Remaining balance = 97406.50\n",
            "Month 3: Payment = 2124.70, Remaining balance = 96093.51\n",
            "Month 4: Payment = 2124.70, Remaining balance = 94769.59\n",
            "Month 5: Payment = 2124.70, Remaining balance = 93434.63\n",
            "Month 6: Payment = 2124.70, Remaining balance = 92088.55\n",
            "Month 7: Payment = 2124.70, Remaining balance = 90731.25\n",
            "Month 8: Payment = 2124.70, Remaining balance = 89362.64\n",
            "Month 9: Payment = 2124.70, Remaining balance = 87982.62\n",
            "Month 10: Payment = 2124.70, Remaining balance = 86591.10\n",
            "Month 11: Payment = 2124.70, Remaining balance = 85187.99\n",
            "Month 12: Payment = 2124.70, Remaining balance = 83773.19\n",
            "Month 13: Payment = 2124.70, Remaining balance = 82346.59\n",
            "Month 14: Payment = 2124.70, Remaining balance = 80908.11\n",
            "Month 15: Payment = 2124.70, Remaining balance = 79457.64\n",
            "Month 16: Payment = 2124.70, Remaining balance = 77995.08\n",
            "Month 17: Payment = 2124.70, Remaining balance = 76520.34\n",
            "Month 18: Payment = 2124.70, Remaining balance = 75033.30\n",
            "Month 19: Payment = 2124.70, Remaining balance = 73533.88\n",
            "Month 20: Payment = 2124.70, Remaining balance = 72021.95\n",
            "Month 21: Payment = 2124.70, Remaining balance = 70497.43\n",
            "Month 22: Payment = 2124.70, Remaining balance = 68960.21\n",
            "Month 23: Payment = 2124.70, Remaining balance = 67410.17\n",
            "Month 24: Payment = 2124.70, Remaining balance = 65847.22\n",
            "Month 25: Payment = 2124.70, Remaining balance = 64271.24\n",
            "Month 26: Payment = 2124.70, Remaining balance = 62682.13\n",
            "Month 27: Payment = 2124.70, Remaining balance = 61079.77\n",
            "Month 28: Payment = 2124.70, Remaining balance = 59464.07\n",
            "Month 29: Payment = 2124.70, Remaining balance = 57834.90\n",
            "Month 30: Payment = 2124.70, Remaining balance = 56192.15\n",
            "Month 31: Payment = 2124.70, Remaining balance = 54535.71\n",
            "Month 32: Payment = 2124.70, Remaining balance = 52865.47\n",
            "Month 33: Payment = 2124.70, Remaining balance = 51181.32\n",
            "Month 34: Payment = 2124.70, Remaining balance = 49483.12\n",
            "Month 35: Payment = 2124.70, Remaining balance = 47770.78\n",
            "Month 36: Payment = 2124.70, Remaining balance = 46044.16\n",
            "Month 37: Payment = 2124.70, Remaining balance = 44303.16\n",
            "Month 38: Payment = 2124.70, Remaining balance = 42547.65\n",
            "Month 39: Payment = 2124.70, Remaining balance = 40777.51\n",
            "Month 40: Payment = 2124.70, Remaining balance = 38992.61\n",
            "Month 41: Payment = 2124.70, Remaining balance = 37192.85\n",
            "Month 42: Payment = 2124.70, Remaining balance = 35378.08\n",
            "Month 43: Payment = 2124.70, Remaining balance = 33548.20\n",
            "Month 44: Payment = 2124.70, Remaining balance = 31703.06\n",
            "Month 45: Payment = 2124.70, Remaining balance = 29842.55\n",
            "Month 46: Payment = 2124.70, Remaining balance = 27966.53\n",
            "Month 47: Payment = 2124.70, Remaining balance = 26074.88\n",
            "Month 48: Payment = 2124.70, Remaining balance = 24167.47\n",
            "Month 49: Payment = 2124.70, Remaining balance = 22244.16\n",
            "Month 50: Payment = 2124.70, Remaining balance = 20304.82\n",
            "Month 51: Payment = 2124.70, Remaining balance = 18349.33\n",
            "Month 52: Payment = 2124.70, Remaining balance = 16377.53\n",
            "Month 53: Payment = 2124.70, Remaining balance = 14389.31\n",
            "Month 54: Payment = 2124.70, Remaining balance = 12384.51\n",
            "Month 55: Payment = 2124.70, Remaining balance = 10363.01\n",
            "Month 56: Payment = 2124.70, Remaining balance = 8324.67\n",
            "Month 57: Payment = 2124.70, Remaining balance = 6269.34\n",
            "Month 58: Payment = 2124.70, Remaining balance = 4196.88\n",
            "Month 59: Payment = 2124.70, Remaining balance = 2107.14\n",
            "Month 60: Payment = 2124.70, Remaining balance = -0.00\n"
          ]
        }
      ]
    },
    {
      "cell_type": "markdown",
      "source": [
        "# **5. Рассчмтать ежемесячные платежи по кредиту. Решение с помощью цикла while.**"
      ],
      "metadata": {
        "id": "0Qd8g2fyGapR"
      }
    },
    {
      "cell_type": "code",
      "source": [
        "loan_amount = 100000\n",
        "interest_rate = 0.1\n",
        "years = 5\n",
        "monthly_interest_rate = interest_rate / 12\n",
        "months = years * 12\n",
        "payment = (loan_amount * monthly_interest_rate) / (1 - (1 + monthly_interest_rate) ** (-months))\n",
        "i = 0\n",
        "while i < months:\n",
        "    loan_amount = loan_amount * (1 + monthly_interest_rate) - payment\n",
        "    print(f\"Month {i+1}: Payment = {payment:.2f}, Remaining balance = {loan_amount:.2f}\")\n",
        "    i += 1"
      ],
      "metadata": {
        "colab": {
          "base_uri": "https://localhost:8080/"
        },
        "id": "OHkdDHZkGoGh",
        "outputId": "269a82ab-e51e-4475-9efb-c35600c246f9"
      },
      "execution_count": null,
      "outputs": [
        {
          "output_type": "stream",
          "name": "stdout",
          "text": [
            "Month 1: Payment = 2124.70, Remaining balance = 98708.63\n",
            "Month 2: Payment = 2124.70, Remaining balance = 97406.50\n",
            "Month 3: Payment = 2124.70, Remaining balance = 96093.51\n",
            "Month 4: Payment = 2124.70, Remaining balance = 94769.59\n",
            "Month 5: Payment = 2124.70, Remaining balance = 93434.63\n",
            "Month 6: Payment = 2124.70, Remaining balance = 92088.55\n",
            "Month 7: Payment = 2124.70, Remaining balance = 90731.25\n",
            "Month 8: Payment = 2124.70, Remaining balance = 89362.64\n",
            "Month 9: Payment = 2124.70, Remaining balance = 87982.62\n",
            "Month 10: Payment = 2124.70, Remaining balance = 86591.10\n",
            "Month 11: Payment = 2124.70, Remaining balance = 85187.99\n",
            "Month 12: Payment = 2124.70, Remaining balance = 83773.19\n",
            "Month 13: Payment = 2124.70, Remaining balance = 82346.59\n",
            "Month 14: Payment = 2124.70, Remaining balance = 80908.11\n",
            "Month 15: Payment = 2124.70, Remaining balance = 79457.64\n",
            "Month 16: Payment = 2124.70, Remaining balance = 77995.08\n",
            "Month 17: Payment = 2124.70, Remaining balance = 76520.34\n",
            "Month 18: Payment = 2124.70, Remaining balance = 75033.30\n",
            "Month 19: Payment = 2124.70, Remaining balance = 73533.88\n",
            "Month 20: Payment = 2124.70, Remaining balance = 72021.95\n",
            "Month 21: Payment = 2124.70, Remaining balance = 70497.43\n",
            "Month 22: Payment = 2124.70, Remaining balance = 68960.21\n",
            "Month 23: Payment = 2124.70, Remaining balance = 67410.17\n",
            "Month 24: Payment = 2124.70, Remaining balance = 65847.22\n",
            "Month 25: Payment = 2124.70, Remaining balance = 64271.24\n",
            "Month 26: Payment = 2124.70, Remaining balance = 62682.13\n",
            "Month 27: Payment = 2124.70, Remaining balance = 61079.77\n",
            "Month 28: Payment = 2124.70, Remaining balance = 59464.07\n",
            "Month 29: Payment = 2124.70, Remaining balance = 57834.90\n",
            "Month 30: Payment = 2124.70, Remaining balance = 56192.15\n",
            "Month 31: Payment = 2124.70, Remaining balance = 54535.71\n",
            "Month 32: Payment = 2124.70, Remaining balance = 52865.47\n",
            "Month 33: Payment = 2124.70, Remaining balance = 51181.32\n",
            "Month 34: Payment = 2124.70, Remaining balance = 49483.12\n",
            "Month 35: Payment = 2124.70, Remaining balance = 47770.78\n",
            "Month 36: Payment = 2124.70, Remaining balance = 46044.16\n",
            "Month 37: Payment = 2124.70, Remaining balance = 44303.16\n",
            "Month 38: Payment = 2124.70, Remaining balance = 42547.65\n",
            "Month 39: Payment = 2124.70, Remaining balance = 40777.51\n",
            "Month 40: Payment = 2124.70, Remaining balance = 38992.61\n",
            "Month 41: Payment = 2124.70, Remaining balance = 37192.85\n",
            "Month 42: Payment = 2124.70, Remaining balance = 35378.08\n",
            "Month 43: Payment = 2124.70, Remaining balance = 33548.20\n",
            "Month 44: Payment = 2124.70, Remaining balance = 31703.06\n",
            "Month 45: Payment = 2124.70, Remaining balance = 29842.55\n",
            "Month 46: Payment = 2124.70, Remaining balance = 27966.53\n",
            "Month 47: Payment = 2124.70, Remaining balance = 26074.88\n",
            "Month 48: Payment = 2124.70, Remaining balance = 24167.47\n",
            "Month 49: Payment = 2124.70, Remaining balance = 22244.16\n",
            "Month 50: Payment = 2124.70, Remaining balance = 20304.82\n",
            "Month 51: Payment = 2124.70, Remaining balance = 18349.33\n",
            "Month 52: Payment = 2124.70, Remaining balance = 16377.53\n",
            "Month 53: Payment = 2124.70, Remaining balance = 14389.31\n",
            "Month 54: Payment = 2124.70, Remaining balance = 12384.51\n",
            "Month 55: Payment = 2124.70, Remaining balance = 10363.01\n",
            "Month 56: Payment = 2124.70, Remaining balance = 8324.67\n",
            "Month 57: Payment = 2124.70, Remaining balance = 6269.34\n",
            "Month 58: Payment = 2124.70, Remaining balance = 4196.88\n",
            "Month 59: Payment = 2124.70, Remaining balance = 2107.14\n",
            "Month 60: Payment = 2124.70, Remaining balance = -0.00\n"
          ]
        }
      ]
    }
  ]
}